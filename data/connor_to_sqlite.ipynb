{
 "cells": [
  {
   "cell_type": "code",
   "execution_count": 2,
   "metadata": {},
   "outputs": [],
   "source": [
    "import pandas as pd\n",
    "import numpy as np\n",
    "\n",
    "from sqlalchemy import create_engine\n",
    "\n",
    "import time"
   ]
  },
  {
   "cell_type": "code",
   "execution_count": 3,
   "metadata": {},
   "outputs": [],
   "source": [
    "tweet_df = pd.read_csv('expert_tweets_week_3.csv')"
   ]
  },
  {
   "cell_type": "code",
   "execution_count": 6,
   "metadata": {},
   "outputs": [
    {
     "data": {
      "text/plain": [
       "(200, 8)"
      ]
     },
     "execution_count": 6,
     "metadata": {},
     "output_type": "execute_result"
    }
   ],
   "source": [
    "tweet_df.shape"
   ]
  },
  {
   "cell_type": "markdown",
   "metadata": {},
   "source": [
    "Merge Data & Save to SQLite Database"
   ]
  },
  {
   "cell_type": "code",
   "execution_count": 7,
   "metadata": {},
   "outputs": [],
   "source": [
    "###FUNCTION CREATE TABLES IN OUR SQLITE DATABASE - USE A FIXED DATABASE NAME OF fantasy_football_2018.db###\n",
    "\n",
    "#function inputs are the dataframe, the table_name, and the\n",
    "#if_exists_action can be 'fail', 'replace', 'append' (default is set to 'append' if user doesn't put in anything)\n",
    "def add_to_SQLite(df, table_name, if_exists_action='append'):\n",
    "    default_database_path = 'sqlite:///fantasy_football_2018.db'\n",
    "    disk_engine = create_engine(default_database_path)\n",
    "    \n",
    "    df.to_sql(table_name, disk_engine,\n",
    "              if_exists=if_exists_action, index=False, \n",
    "              chunksize=100) #chunksize limits how many variables get added at a time (SQLite needed max of 100 or would error out)\n",
    "    \n",
    "    print(f\"Table {table_name} was added to the database at {default_database_path}\")"
   ]
  },
  {
   "cell_type": "code",
   "execution_count": 8,
   "metadata": {},
   "outputs": [
    {
     "name": "stdout",
     "output_type": "stream",
     "text": [
      "Table week_3_tweets was added to the database at sqlite:///fantasy_football_2018.db\n"
     ]
    }
   ],
   "source": [
    "###ADD WEEK 3 TWEETS TO SQL DB\n",
    "add_to_SQLite(df=tweet_df,\n",
    "              table_name='week_3_tweets',\n",
    "              if_exists_action='fail')"
   ]
  },
  {
   "cell_type": "code",
   "execution_count": 9,
   "metadata": {},
   "outputs": [],
   "source": [
    "week_3_ou_df = pd.read_csv('week_3_score_sent.csv')"
   ]
  },
  {
   "cell_type": "code",
   "execution_count": 10,
   "metadata": {},
   "outputs": [
    {
     "name": "stdout",
     "output_type": "stream",
     "text": [
      "Table week_3_over_unders was added to the database at sqlite:///fantasy_football_2018.db\n"
     ]
    }
   ],
   "source": [
    "###ADD WEEK 3 OVER UNDERS TO SQL DB\n",
    "add_to_SQLite(df=week_3_ou_df,\n",
    "              table_name='week_3_over_unders',\n",
    "              if_exists_action='fail')"
   ]
  },
  {
   "cell_type": "code",
   "execution_count": 5,
   "metadata": {},
   "outputs": [],
   "source": [
    "def_scores_df = pd.read_csv('def_scoring_proj.csv')"
   ]
  },
  {
   "cell_type": "code",
   "execution_count": 8,
   "metadata": {},
   "outputs": [
    {
     "name": "stdout",
     "output_type": "stream",
     "text": [
      "Table def_scores was added to the database at sqlite:///fantasy_football_2018.db\n"
     ]
    }
   ],
   "source": [
    "###ADD WEEK 3 OVER UNDERS TO SQL DB\n",
    "add_to_SQLite(df=def_scores_df,\n",
    "              table_name='def_scores',\n",
    "              if_exists_action='fail')"
   ]
  },
  {
   "cell_type": "code",
   "execution_count": null,
   "metadata": {},
   "outputs": [],
   "source": []
  }
 ],
 "metadata": {
  "kernelspec": {
   "display_name": "Python 3",
   "language": "python",
   "name": "python3"
  },
  "language_info": {
   "codemirror_mode": {
    "name": "ipython",
    "version": 3
   },
   "file_extension": ".py",
   "mimetype": "text/x-python",
   "name": "python",
   "nbconvert_exporter": "python",
   "pygments_lexer": "ipython3",
   "version": "3.6.6"
  }
 },
 "nbformat": 4,
 "nbformat_minor": 2
}
