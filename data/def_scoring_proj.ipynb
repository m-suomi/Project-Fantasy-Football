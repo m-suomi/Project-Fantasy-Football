{
 "cells": [
  {
   "cell_type": "code",
   "execution_count": 1,
   "metadata": {},
   "outputs": [],
   "source": [
    "import pandas as pd"
   ]
  },
  {
   "cell_type": "code",
   "execution_count": 3,
   "metadata": {},
   "outputs": [],
   "source": [
    "df = pd.read_csv('def_scoring_proj.csv')"
   ]
  },
  {
   "cell_type": "code",
   "execution_count": 4,
   "metadata": {},
   "outputs": [
    {
     "data": {
      "text/html": [
       "<div>\n",
       "<style scoped>\n",
       "    .dataframe tbody tr th:only-of-type {\n",
       "        vertical-align: middle;\n",
       "    }\n",
       "\n",
       "    .dataframe tbody tr th {\n",
       "        vertical-align: top;\n",
       "    }\n",
       "\n",
       "    .dataframe thead th {\n",
       "        text-align: right;\n",
       "    }\n",
       "</style>\n",
       "<table border=\"1\" class=\"dataframe\">\n",
       "  <thead>\n",
       "    <tr style=\"text-align: right;\">\n",
       "      <th></th>\n",
       "      <th>PLAYER, TEAM POS</th>\n",
       "      <th>team_abbr</th>\n",
       "      <th>week_2_opp</th>\n",
       "      <th>week_2_proj</th>\n",
       "      <th>week_2_actual</th>\n",
       "      <th>week_3_opp</th>\n",
       "      <th>week_3_proj</th>\n",
       "    </tr>\n",
       "  </thead>\n",
       "  <tbody>\n",
       "    <tr>\n",
       "      <th>0</th>\n",
       "      <td>Jets D/ST D/ST</td>\n",
       "      <td>NYJ</td>\n",
       "      <td>Mia</td>\n",
       "      <td>4.9</td>\n",
       "      <td>10</td>\n",
       "      <td>Cle</td>\n",
       "      <td>5.2</td>\n",
       "    </tr>\n",
       "    <tr>\n",
       "      <th>1</th>\n",
       "      <td>Vikings D/ST D/ST</td>\n",
       "      <td>Min</td>\n",
       "      <td>GB</td>\n",
       "      <td>6.4</td>\n",
       "      <td>2</td>\n",
       "      <td>Buf</td>\n",
       "      <td>13.2</td>\n",
       "    </tr>\n",
       "    <tr>\n",
       "      <th>2</th>\n",
       "      <td>Ravens D/ST D/ST</td>\n",
       "      <td>Bal</td>\n",
       "      <td>Cin</td>\n",
       "      <td>6.1</td>\n",
       "      <td>-2</td>\n",
       "      <td>Den</td>\n",
       "      <td>6.7</td>\n",
       "    </tr>\n",
       "    <tr>\n",
       "      <th>3</th>\n",
       "      <td>Rams D/ST D/ST</td>\n",
       "      <td>LAR</td>\n",
       "      <td>Ari</td>\n",
       "      <td>7.6</td>\n",
       "      <td>11</td>\n",
       "      <td>LAC</td>\n",
       "      <td>6.8</td>\n",
       "    </tr>\n",
       "    <tr>\n",
       "      <th>4</th>\n",
       "      <td>Bears D/ST D/ST</td>\n",
       "      <td>Chi</td>\n",
       "      <td>Sea</td>\n",
       "      <td>5.9</td>\n",
       "      <td>19</td>\n",
       "      <td>Ari</td>\n",
       "      <td>6.5</td>\n",
       "    </tr>\n",
       "  </tbody>\n",
       "</table>\n",
       "</div>"
      ],
      "text/plain": [
       "    PLAYER, TEAM POS team_abbr week_2_opp  week_2_proj  week_2_actual  \\\n",
       "0     Jets D/ST D/ST       NYJ        Mia          4.9             10   \n",
       "1  Vikings D/ST D/ST       Min         GB          6.4              2   \n",
       "2   Ravens D/ST D/ST       Bal        Cin          6.1             -2   \n",
       "3     Rams D/ST D/ST       LAR        Ari          7.6             11   \n",
       "4    Bears D/ST D/ST       Chi        Sea          5.9             19   \n",
       "\n",
       "  week_3_opp  week_3_proj  \n",
       "0        Cle          5.2  \n",
       "1        Buf         13.2  \n",
       "2        Den          6.7  \n",
       "3        LAC          6.8  \n",
       "4        Ari          6.5  "
      ]
     },
     "execution_count": 4,
     "metadata": {},
     "output_type": "execute_result"
    }
   ],
   "source": [
    "df.head()"
   ]
  },
  {
   "cell_type": "code",
   "execution_count": 5,
   "metadata": {},
   "outputs": [
    {
     "name": "stdout",
     "output_type": "stream",
     "text": [
      "13.2\n",
      "1.5\n",
      "5.796874999999999\n"
     ]
    }
   ],
   "source": [
    "high = df['week_3_proj'].max()\n",
    "print(high)\n",
    "low = df['week_3_proj'].min()\n",
    "print(low)\n",
    "mean = df['week_3_proj'].mean()\n",
    "print(mean)"
   ]
  },
  {
   "cell_type": "code",
   "execution_count": 6,
   "metadata": {},
   "outputs": [
    {
     "data": {
      "text/html": [
       "<div>\n",
       "<style scoped>\n",
       "    .dataframe tbody tr th:only-of-type {\n",
       "        vertical-align: middle;\n",
       "    }\n",
       "\n",
       "    .dataframe tbody tr th {\n",
       "        vertical-align: top;\n",
       "    }\n",
       "\n",
       "    .dataframe thead th {\n",
       "        text-align: right;\n",
       "    }\n",
       "</style>\n",
       "<table border=\"1\" class=\"dataframe\">\n",
       "  <thead>\n",
       "    <tr style=\"text-align: right;\">\n",
       "      <th></th>\n",
       "      <th>PLAYER, TEAM POS</th>\n",
       "      <th>team_abbr</th>\n",
       "      <th>week_2_opp</th>\n",
       "      <th>week_2_proj</th>\n",
       "      <th>week_2_actual</th>\n",
       "      <th>week_3_opp</th>\n",
       "      <th>week_3_proj</th>\n",
       "      <th>binned</th>\n",
       "    </tr>\n",
       "  </thead>\n",
       "  <tbody>\n",
       "    <tr>\n",
       "      <th>0</th>\n",
       "      <td>Jets D/ST D/ST</td>\n",
       "      <td>NYJ</td>\n",
       "      <td>Mia</td>\n",
       "      <td>4.9</td>\n",
       "      <td>10</td>\n",
       "      <td>Cle</td>\n",
       "      <td>5.2</td>\n",
       "      <td>(4.365, 8.265]</td>\n",
       "    </tr>\n",
       "    <tr>\n",
       "      <th>1</th>\n",
       "      <td>Vikings D/ST D/ST</td>\n",
       "      <td>Min</td>\n",
       "      <td>GB</td>\n",
       "      <td>6.4</td>\n",
       "      <td>2</td>\n",
       "      <td>Buf</td>\n",
       "      <td>13.2</td>\n",
       "      <td>(10.732, 13.7]</td>\n",
       "    </tr>\n",
       "    <tr>\n",
       "      <th>2</th>\n",
       "      <td>Ravens D/ST D/ST</td>\n",
       "      <td>Bal</td>\n",
       "      <td>Cin</td>\n",
       "      <td>6.1</td>\n",
       "      <td>-2</td>\n",
       "      <td>Den</td>\n",
       "      <td>6.7</td>\n",
       "      <td>(4.365, 8.265]</td>\n",
       "    </tr>\n",
       "    <tr>\n",
       "      <th>3</th>\n",
       "      <td>Rams D/ST D/ST</td>\n",
       "      <td>LAR</td>\n",
       "      <td>Ari</td>\n",
       "      <td>7.6</td>\n",
       "      <td>11</td>\n",
       "      <td>LAC</td>\n",
       "      <td>6.8</td>\n",
       "      <td>(4.365, 8.265]</td>\n",
       "    </tr>\n",
       "    <tr>\n",
       "      <th>4</th>\n",
       "      <td>Bears D/ST D/ST</td>\n",
       "      <td>Chi</td>\n",
       "      <td>Sea</td>\n",
       "      <td>5.9</td>\n",
       "      <td>19</td>\n",
       "      <td>Ari</td>\n",
       "      <td>6.5</td>\n",
       "      <td>(4.365, 8.265]</td>\n",
       "    </tr>\n",
       "  </tbody>\n",
       "</table>\n",
       "</div>"
      ],
      "text/plain": [
       "    PLAYER, TEAM POS team_abbr week_2_opp  week_2_proj  week_2_actual  \\\n",
       "0     Jets D/ST D/ST       NYJ        Mia          4.9             10   \n",
       "1  Vikings D/ST D/ST       Min         GB          6.4              2   \n",
       "2   Ravens D/ST D/ST       Bal        Cin          6.1             -2   \n",
       "3     Rams D/ST D/ST       LAR        Ari          7.6             11   \n",
       "4    Bears D/ST D/ST       Chi        Sea          5.9             19   \n",
       "\n",
       "  week_3_opp  week_3_proj          binned  \n",
       "0        Cle          5.2  (4.365, 8.265]  \n",
       "1        Buf         13.2  (10.732, 13.7]  \n",
       "2        Den          6.7  (4.365, 8.265]  \n",
       "3        LAC          6.8  (4.365, 8.265]  \n",
       "4        Ari          6.5  (4.365, 8.265]  "
      ]
     },
     "execution_count": 6,
     "metadata": {},
     "output_type": "execute_result"
    }
   ],
   "source": [
    "#create bins from range of over unders\n",
    "bins = [(low-.5), ((low+low+mean)/3), ((low+mean+mean)/3), ((high+mean+mean)/3), ((high+high+mean)/3), (high+.5)]\n",
    "df['binned'] = pd.cut(df['week_3_proj'], bins)\n",
    "df.head()"
   ]
  },
  {
   "cell_type": "code",
   "execution_count": 8,
   "metadata": {},
   "outputs": [
    {
     "data": {
      "text/plain": [
       "(4.365, 8.265]     24\n",
       "(2.932, 4.365]      5\n",
       "(10.732, 13.7]      1\n",
       "(8.265, 10.732]     1\n",
       "(1.0, 2.932]        1\n",
       "Name: binned, dtype: int64"
      ]
     },
     "execution_count": 8,
     "metadata": {},
     "output_type": "execute_result"
    }
   ],
   "source": [
    "df['binned'].value_counts()"
   ]
  },
  {
   "cell_type": "code",
   "execution_count": 9,
   "metadata": {},
   "outputs": [],
   "source": [
    "#convert binned values to string so we can categorize with adjectives\n",
    "df['binned'] = df['binned'].map(lambda x: str(x))"
   ]
  },
  {
   "cell_type": "code",
   "execution_count": 10,
   "metadata": {},
   "outputs": [
    {
     "data": {
      "text/plain": [
       "'(4.365, 8.265]'"
      ]
     },
     "execution_count": 10,
     "metadata": {},
     "output_type": "execute_result"
    }
   ],
   "source": [
    "df['binned'].iloc[0]"
   ]
  },
  {
   "cell_type": "code",
   "execution_count": null,
   "metadata": {},
   "outputs": [],
   "source": [
    "#create adjectives from bins\n",
    "score_bins = {\n",
    "    '(10.732, 13.7]': 'Terrible',\n",
    "    '(8.265, 10.732]': 'Concerned',\n",
    "    '(4.365, 8.265]': 'Neutral',\n",
    "    '(2.932, 4.365]': 'Good',\n",
    "    '(52.479, 56.5]': 'Awesome'\n",
    "}"
   ]
  }
 ],
 "metadata": {
  "kernelspec": {
   "display_name": "Python 3",
   "language": "python",
   "name": "python3"
  },
  "language_info": {
   "codemirror_mode": {
    "name": "ipython",
    "version": 3
   },
   "file_extension": ".py",
   "mimetype": "text/x-python",
   "name": "python",
   "nbconvert_exporter": "python",
   "pygments_lexer": "ipython3",
   "version": "3.6.6"
  }
 },
 "nbformat": 4,
 "nbformat_minor": 2
}
